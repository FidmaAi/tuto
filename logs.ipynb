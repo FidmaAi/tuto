{
 "cells": [
  {
   "cell_type": "code",
   "execution_count": 1,
   "id": "73c4cdf4",
   "metadata": {},
   "outputs": [
    {
     "name": "stdout",
     "output_type": "stream",
     "text": [
      "['C:\\\\Users\\\\fidma\\\\AppData\\\\Local\\\\anaconda3\\\\Lib\\\\site-packages\\\\ipykernel_launcher.py', '-f', 'C:\\\\Users\\\\fidma\\\\AppData\\\\Roaming\\\\jupyter\\\\runtime\\\\kernel-a25a2071-c35e-4bec-a6cc-d38d2dc8eeb4.json']\n"
     ]
    }
   ],
   "source": [
    "import sys\n",
    "print(sys.argv)\n"
   ]
  },
  {
   "cell_type": "code",
   "execution_count": 2,
   "id": "a9680307",
   "metadata": {},
   "outputs": [
    {
     "ename": "SystemExit",
     "evalue": "Exiting the script.",
     "output_type": "error",
     "traceback": [
      "An exception has occurred, use %tb to see the full traceback.\n",
      "\u001b[1;31mSystemExit\u001b[0m\u001b[1;31m:\u001b[0m Exiting the script.\n"
     ]
    },
    {
     "name": "stderr",
     "output_type": "stream",
     "text": [
      "C:\\Users\\fidma\\AppData\\Local\\anaconda3\\Lib\\site-packages\\IPython\\core\\interactiveshell.py:3534: UserWarning: To exit: use 'exit', 'quit', or Ctrl-D.\n",
      "  warn(\"To exit: use 'exit', 'quit', or Ctrl-D.\", stacklevel=1)\n"
     ]
    }
   ],
   "source": [
    "import sys\n",
    "sys.exit(\"Exiting the script.\")\n"
   ]
  },
  {
   "cell_type": "code",
   "execution_count": 4,
   "id": "ada6bfc4",
   "metadata": {},
   "outputs": [
    {
     "name": "stdout",
     "output_type": "stream",
     "text": [
      "3.11.5 | packaged by Anaconda, Inc. | (main, Sep 11 2023, 13:26:23) [MSC v.1916 64 bit (AMD64)]\n",
      "sys.version_info(major=3, minor=11, micro=5, releaselevel='final', serial=0)\n",
      "['C:\\\\Users\\\\fidma\\\\Desktop\\\\tuto', 'C:\\\\Users\\\\fidma\\\\AppData\\\\Local\\\\anaconda3\\\\python311.zip', 'C:\\\\Users\\\\fidma\\\\AppData\\\\Local\\\\anaconda3\\\\DLLs', 'C:\\\\Users\\\\fidma\\\\AppData\\\\Local\\\\anaconda3\\\\Lib', 'C:\\\\Users\\\\fidma\\\\AppData\\\\Local\\\\anaconda3', '', 'C:\\\\Users\\\\fidma\\\\AppData\\\\Local\\\\anaconda3\\\\Lib\\\\site-packages', 'C:\\\\Users\\\\fidma\\\\AppData\\\\Local\\\\anaconda3\\\\Lib\\\\site-packages\\\\win32', 'C:\\\\Users\\\\fidma\\\\AppData\\\\Local\\\\anaconda3\\\\Lib\\\\site-packages\\\\win32\\\\lib', 'C:\\\\Users\\\\fidma\\\\AppData\\\\Local\\\\anaconda3\\\\Lib\\\\site-packages\\\\Pythonwin']\n"
     ]
    }
   ],
   "source": [
    "import sys\n",
    "print(sys.version)\n",
    "print(sys.version_info)\n",
    "print(sys.path)\n"
   ]
  },
  {
   "cell_type": "code",
   "execution_count": null,
   "id": "f6e68440",
   "metadata": {},
   "outputs": [],
   "source": []
  }
 ],
 "metadata": {
  "kernelspec": {
   "display_name": "Python 3 (ipykernel)",
   "language": "python",
   "name": "python3"
  },
  "language_info": {
   "codemirror_mode": {
    "name": "ipython",
    "version": 3
   },
   "file_extension": ".py",
   "mimetype": "text/x-python",
   "name": "python",
   "nbconvert_exporter": "python",
   "pygments_lexer": "ipython3",
   "version": "3.11.5"
  }
 },
 "nbformat": 4,
 "nbformat_minor": 5
}
